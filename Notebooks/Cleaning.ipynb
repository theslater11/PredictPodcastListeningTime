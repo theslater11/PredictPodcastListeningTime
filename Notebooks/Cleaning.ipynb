{
 "cells": [
  {
   "cell_type": "markdown",
   "metadata": {},
   "source": [
    "# Data Cleaning"
   ]
  },
  {
   "cell_type": "code",
   "execution_count": 16,
   "metadata": {},
   "outputs": [],
   "source": [
    "import pandas as pd\n",
    "import numpy as np"
   ]
  },
  {
   "cell_type": "code",
   "execution_count": 17,
   "metadata": {},
   "outputs": [],
   "source": [
    "test = pd.read_csv('/Users/sa12/Documents/Repositories/PredictPodcastListeningTime/PodcastData/test.csv').drop_duplicates()\n",
    "train = pd.read_csv('/Users/sa12/Documents/Repositories/PredictPodcastListeningTime/PodcastData/train.csv').drop_duplicates()"
   ]
  },
  {
   "cell_type": "code",
   "execution_count": 18,
   "metadata": {},
   "outputs": [
    {
     "data": {
      "text/plain": [
       "id     Podcast_Name  Episode_Title  Episode_Length_minutes  Genre  Host_Popularity_percentage  Publication_Day  Publication_Time  Guest_Popularity_percentage  Number_of_Ads  Episode_Sentiment\n",
       "False  False         False          False                   False  False                       False            False             False                        False          False                179834\n",
       "                                                                                                                                  True                         False          False                 41430\n",
       "                                    True                    False  False                       False            False             False                        False          False                 21334\n",
       "                                                                                                                                  True                         False          False                  7402\n",
       "Name: count, dtype: int64"
      ]
     },
     "execution_count": 18,
     "metadata": {},
     "output_type": "execute_result"
    }
   ],
   "source": [
    "test.isna().value_counts()"
   ]
  },
  {
   "cell_type": "code",
   "execution_count": 19,
   "metadata": {},
   "outputs": [
    {
     "data": {
      "text/plain": [
       "id     Podcast_Name  Episode_Title  Episode_Length_minutes  Genre  Host_Popularity_percentage  Publication_Day  Publication_Time  Guest_Popularity_percentage  Number_of_Ads  Episode_Sentiment  Listening_Time_minutes\n",
       "False  False         False          False                   False  False                       False            False             False                        False          False              False                     539048\n",
       "                                                                                                                                  True                         False          False              False                     123858\n",
       "                                    True                    False  False                       False            False             False                        False          False              False                      64921\n",
       "                                                                                                                                  True                         False          False              False                      22172\n",
       "                                    False                   False  False                       False            False             False                        True           False              False                          1\n",
       "Name: count, dtype: int64"
      ]
     },
     "execution_count": 19,
     "metadata": {},
     "output_type": "execute_result"
    }
   ],
   "source": [
    "train.isna().value_counts()"
   ]
  },
  {
   "cell_type": "code",
   "execution_count": 20,
   "metadata": {},
   "outputs": [],
   "source": [
    "test['Guest_Popularity_percentage'] = test['Guest_Popularity_percentage'].fillna(0)\n",
    "# create a column representing the mean episode length of each podcast\n",
    "test['Episode_Length_means'] = test.groupby('Podcast_Name')['Episode_Length_minutes'].transform('mean')\n",
    "#locate rows with null value in episode length column and fill them with the average\n",
    "test.loc[test['Episode_Length_minutes'].isnull(),'Episode_Length_minutes'] = test.loc[test['Episode_Length_minutes'].isnull(),'Episode_Length_means']\n",
    "#remove outliers in Number_of_Ads\n",
    "test = test[test['Number_of_Ads'] <= 6]"
   ]
  },
  {
   "cell_type": "code",
   "execution_count": 21,
   "metadata": {},
   "outputs": [],
   "source": [
    "train['Guest_Popularity_percentage'] = train['Guest_Popularity_percentage'].fillna(0)\n",
    "train['Number_of_Ads'] = train['Number_of_Ads'].fillna(1)\n",
    "#create a column representing the mean episode length of each podcast\n",
    "train['Episode_Length_means'] = train.groupby('Podcast_Name')['Episode_Length_minutes'].transform('mean')\n",
    "#locate rows with null value in episode length column and fill them with the average\n",
    "train.loc[train['Episode_Length_minutes'].isnull(),'Episode_Length_minutes'] = train.loc[train['Episode_Length_minutes'].isnull(),'Episode_Length_means']\n",
    "train = train[train['Number_of_Ads'] <= 6]"
   ]
  },
  {
   "cell_type": "code",
   "execution_count": 22,
   "metadata": {},
   "outputs": [],
   "source": [
    "#ordinal mapping for Episode Sentiment column in train\n",
    "train['Episode_Sentiment'] = train['Episode_Sentiment'].map({'Negative': -1, 'Neutral': 0, 'Positive': 1})\n",
    "#recreate our Listening Ratio to remove outliers\n",
    "train['Ratio'] = train['Listening_Time_minutes']/train['Episode_Length_minutes']\n",
    "train = train[train['Ratio'] < 2]\n",
    "#ordinal mapping for Episode Sentiment column in test\n",
    "test['Episode_Sentiment'] = test['Episode_Sentiment'].map({'Negative': -1, 'Neutral': 0, 'Positive': 1})\n",
    "#no ratio because there is no listening times in our test data"
   ]
  },
  {
   "cell_type": "code",
   "execution_count": 23,
   "metadata": {},
   "outputs": [],
   "source": [
    "test = test[['id','Episode_Length_minutes', 'Number_of_Ads','Episode_Sentiment']]\n",
    "train = train[['Episode_Length_minutes', 'Number_of_Ads','Listening_Time_minutes','Episode_Sentiment']]\n"
   ]
  },
  {
   "cell_type": "code",
   "execution_count": 24,
   "metadata": {},
   "outputs": [],
   "source": [
    "test.to_csv('/Users/sa12/Documents/Repositories/PredictPodcastListeningTime/PodcastData/clean_test.csv')\n",
    "train.to_csv('/Users/sa12/Documents/Repositories/PredictPodcastListeningTime/PodcastData/clean_train.csv')"
   ]
  }
 ],
 "metadata": {
  "kernelspec": {
   "display_name": "base",
   "language": "python",
   "name": "python3"
  },
  "language_info": {
   "codemirror_mode": {
    "name": "ipython",
    "version": 3
   },
   "file_extension": ".py",
   "mimetype": "text/x-python",
   "name": "python",
   "nbconvert_exporter": "python",
   "pygments_lexer": "ipython3",
   "version": "3.12.4"
  }
 },
 "nbformat": 4,
 "nbformat_minor": 2
}
