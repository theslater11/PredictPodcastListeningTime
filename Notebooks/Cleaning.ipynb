{
 "cells": [
  {
   "cell_type": "markdown",
   "metadata": {},
   "source": [
    "# Data Cleaning"
   ]
  },
  {
   "cell_type": "code",
   "execution_count": 19,
   "metadata": {},
   "outputs": [],
   "source": [
    "import pandas as pd\n",
    "import numpy as np"
   ]
  },
  {
   "cell_type": "code",
   "execution_count": 20,
   "metadata": {},
   "outputs": [],
   "source": [
    "test = pd.read_csv('/Users/sa12/Documents/Repositories/PredictPodcastListeningTime/PodcastData/test.csv')\n",
    "train = pd.read_csv('/Users/sa12/Documents/Repositories/PredictPodcastListeningTime/PodcastData/train.csv')"
   ]
  },
  {
   "cell_type": "code",
   "execution_count": 21,
   "metadata": {},
   "outputs": [
    {
     "data": {
      "text/plain": [
       "id     Podcast_Name  Episode_Title  Episode_Length_minutes  Genre  Host_Popularity_percentage  Publication_Day  Publication_Time  Guest_Popularity_percentage  Number_of_Ads  Episode_Sentiment\n",
       "False  False         False          False                   False  False                       False            False             False                        False          False                179834\n",
       "                                                                                                                                  True                         False          False                 41430\n",
       "                                    True                    False  False                       False            False             False                        False          False                 21334\n",
       "                                                                                                                                  True                         False          False                  7402\n",
       "Name: count, dtype: int64"
      ]
     },
     "execution_count": 21,
     "metadata": {},
     "output_type": "execute_result"
    }
   ],
   "source": [
    "test.isna().value_counts()"
   ]
  },
  {
   "cell_type": "code",
   "execution_count": 22,
   "metadata": {},
   "outputs": [
    {
     "data": {
      "text/plain": [
       "id     Podcast_Name  Episode_Title  Episode_Length_minutes  Genre  Host_Popularity_percentage  Publication_Day  Publication_Time  Guest_Popularity_percentage  Number_of_Ads  Episode_Sentiment  Listening_Time_minutes\n",
       "False  False         False          False                   False  False                       False            False             False                        False          False              False                     539048\n",
       "                                                                                                                                  True                         False          False              False                     123858\n",
       "                                    True                    False  False                       False            False             False                        False          False              False                      64921\n",
       "                                                                                                                                  True                         False          False              False                      22172\n",
       "                                    False                   False  False                       False            False             False                        True           False              False                          1\n",
       "Name: count, dtype: int64"
      ]
     },
     "execution_count": 22,
     "metadata": {},
     "output_type": "execute_result"
    }
   ],
   "source": [
    "train.isna().value_counts()"
   ]
  },
  {
   "cell_type": "code",
   "execution_count": 23,
   "metadata": {},
   "outputs": [],
   "source": [
    "test['Guest_Popularity_percentage'] = test['Guest_Popularity_percentage'].fillna(0)\n",
    "# create a column representing the mean episode length of each podcast\n",
    "test['Episode_Length_means'] = test.groupby('Podcast_Name')['Episode_Length_minutes'].transform('mean')\n",
    "#locate rows with null value in episode length column and fill them with the average\n",
    "test.loc[test['Episode_Length_minutes'].isnull(),'Episode_Length_minutes'] = test.loc[test['Episode_Length_minutes'].isnull(),'Episode_Length_means']\n",
    "#remove outliers in Number_of_Ads\n",
    "test = test[test['Number_of_Ads'] >= 6]"
   ]
  },
  {
   "cell_type": "code",
   "execution_count": 24,
   "metadata": {},
   "outputs": [],
   "source": [
    "train['Guest_Popularity_percentage'] = train['Guest_Popularity_percentage'].fillna(0)\n",
    "train['Number_of_Ads'] = train['Number_of_Ads'].fillna(1)\n",
    "#create a column representing the mean episode length of each podcast\n",
    "train['Episode_Length_means'] = train.groupby('Podcast_Name')['Episode_Length_minutes'].transform('mean')\n",
    "#locate rows with null value in episode length column and fill them with the average\n",
    "train.loc[train['Episode_Length_minutes'].isnull(),'Episode_Length_minutes'] = train.loc[train['Episode_Length_minutes'].isnull(),'Episode_Length_means']\n",
    "train = train[train['Number_of_Ads'] >= 6]"
   ]
  },
  {
   "cell_type": "code",
   "execution_count": 25,
   "metadata": {},
   "outputs": [],
   "source": [
    "#ordinal mapping for Episode Sentiment column in train\n",
    "train['Episode_Sentiment'] = train['Episode_Sentiment'].map({'Negative': -1, 'Neutral': 0, 'Positive': 1})\n",
    "#recreate our Listening Ratio to remove outliers\n",
    "train['Ratio'] = train['Listening_Time_minutes']/train['Episode_Length_minutes']\n",
    "train = train[train['Ratio'] < 2]\n",
    "#ordinal mapping for Episode Sentiment column in test\n",
    "test['Episode_Sentiment'] = test['Episode_Sentiment'].map({'Negative': -1, 'Neutral': 0, 'Positive': 1})\n",
    "#no ratio because there is no listening times in our test data"
   ]
  },
  {
   "cell_type": "code",
   "execution_count": 26,
   "metadata": {},
   "outputs": [
    {
     "data": {
      "text/html": [
       "<div>\n",
       "<style scoped>\n",
       "    .dataframe tbody tr th:only-of-type {\n",
       "        vertical-align: middle;\n",
       "    }\n",
       "\n",
       "    .dataframe tbody tr th {\n",
       "        vertical-align: top;\n",
       "    }\n",
       "\n",
       "    .dataframe thead th {\n",
       "        text-align: right;\n",
       "    }\n",
       "</style>\n",
       "<table border=\"1\" class=\"dataframe\">\n",
       "  <thead>\n",
       "    <tr style=\"text-align: right;\">\n",
       "      <th></th>\n",
       "      <th>Episode_Length_minutes</th>\n",
       "      <th>Number_of_Ads</th>\n",
       "      <th>Listening_Time_minutes</th>\n",
       "      <th>Episode_Sentiment</th>\n",
       "    </tr>\n",
       "  </thead>\n",
       "  <tbody>\n",
       "    <tr>\n",
       "      <th>211159</th>\n",
       "      <td>64.83</td>\n",
       "      <td>53.37</td>\n",
       "      <td>50.44892</td>\n",
       "      <td>1</td>\n",
       "    </tr>\n",
       "    <tr>\n",
       "      <th>283606</th>\n",
       "      <td>109.93</td>\n",
       "      <td>103.91</td>\n",
       "      <td>103.89696</td>\n",
       "      <td>0</td>\n",
       "    </tr>\n",
       "    <tr>\n",
       "      <th>436577</th>\n",
       "      <td>115.25</td>\n",
       "      <td>103.00</td>\n",
       "      <td>103.12686</td>\n",
       "      <td>0</td>\n",
       "    </tr>\n",
       "    <tr>\n",
       "      <th>495919</th>\n",
       "      <td>64.83</td>\n",
       "      <td>53.42</td>\n",
       "      <td>50.44892</td>\n",
       "      <td>0</td>\n",
       "    </tr>\n",
       "    <tr>\n",
       "      <th>537705</th>\n",
       "      <td>112.27</td>\n",
       "      <td>103.75</td>\n",
       "      <td>103.12686</td>\n",
       "      <td>0</td>\n",
       "    </tr>\n",
       "    <tr>\n",
       "      <th>567235</th>\n",
       "      <td>16.13</td>\n",
       "      <td>12.00</td>\n",
       "      <td>6.49000</td>\n",
       "      <td>1</td>\n",
       "    </tr>\n",
       "    <tr>\n",
       "      <th>602553</th>\n",
       "      <td>112.27</td>\n",
       "      <td>103.25</td>\n",
       "      <td>103.12686</td>\n",
       "      <td>0</td>\n",
       "    </tr>\n",
       "    <tr>\n",
       "      <th>672139</th>\n",
       "      <td>115.74</td>\n",
       "      <td>103.25</td>\n",
       "      <td>103.12686</td>\n",
       "      <td>0</td>\n",
       "    </tr>\n",
       "    <tr>\n",
       "      <th>683147</th>\n",
       "      <td>109.93</td>\n",
       "      <td>103.88</td>\n",
       "      <td>103.89696</td>\n",
       "      <td>0</td>\n",
       "    </tr>\n",
       "  </tbody>\n",
       "</table>\n",
       "</div>"
      ],
      "text/plain": [
       "        Episode_Length_minutes  Number_of_Ads  Listening_Time_minutes  \\\n",
       "211159                   64.83          53.37                50.44892   \n",
       "283606                  109.93         103.91               103.89696   \n",
       "436577                  115.25         103.00               103.12686   \n",
       "495919                   64.83          53.42                50.44892   \n",
       "537705                  112.27         103.75               103.12686   \n",
       "567235                   16.13          12.00                 6.49000   \n",
       "602553                  112.27         103.25               103.12686   \n",
       "672139                  115.74         103.25               103.12686   \n",
       "683147                  109.93         103.88               103.89696   \n",
       "\n",
       "        Episode_Sentiment  \n",
       "211159                  1  \n",
       "283606                  0  \n",
       "436577                  0  \n",
       "495919                  0  \n",
       "537705                  0  \n",
       "567235                  1  \n",
       "602553                  0  \n",
       "672139                  0  \n",
       "683147                  0  "
      ]
     },
     "execution_count": 26,
     "metadata": {},
     "output_type": "execute_result"
    }
   ],
   "source": [
    "test = test[['Episode_Length_minutes', 'Number_of_Ads','Episode_Sentiment']]\n",
    "train = train[['Episode_Length_minutes', 'Number_of_Ads','Listening_Time_minutes','Episode_Sentiment']]\n"
   ]
  },
  {
   "cell_type": "code",
   "execution_count": 27,
   "metadata": {},
   "outputs": [],
   "source": [
    "test.to_csv('/Users/sa12/Documents/Repositories/PredictPodcastListeningTime/PodcastData/clean_test.csv')\n",
    "train.to_csv('/Users/sa12/Documents/Repositories/PredictPodcastListeningTime/PodcastData/clean_train.csv')"
   ]
  }
 ],
 "metadata": {
  "kernelspec": {
   "display_name": "base",
   "language": "python",
   "name": "python3"
  },
  "language_info": {
   "codemirror_mode": {
    "name": "ipython",
    "version": 3
   },
   "file_extension": ".py",
   "mimetype": "text/x-python",
   "name": "python",
   "nbconvert_exporter": "python",
   "pygments_lexer": "ipython3",
   "version": "3.12.4"
  }
 },
 "nbformat": 4,
 "nbformat_minor": 2
}
